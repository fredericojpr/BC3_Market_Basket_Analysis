{
 "cells": [
  {
   "cell_type": "code",
   "execution_count": 22,
   "metadata": {},
   "outputs": [],
   "source": [
    "import pandas as pd\n",
    "import numpy as np\n",
    "from mlxtend.frequent_patterns import apriori\n",
    "from mlxtend.frequent_patterns import association_rules\n",
    "\n",
    "import seaborn as sns\n",
    "import matplotlib.pyplot as plt\n",
    "\n",
    "import warnings\n",
    "warnings.filterwarnings('ignore')"
   ]
  },
  {
   "cell_type": "code",
   "execution_count": 3,
   "metadata": {},
   "outputs": [],
   "source": [
    "#loading the Instacart data\n",
    "\n",
    "orders = pd.read_csv(r'C:\\Users\\frede\\Documents\\GitHub\\BC3_Market_Basket_Analysis\\data\\orders.csv') \n",
    "products = pd.read_csv(r'C:\\Users\\frede\\Documents\\GitHub\\BC3_Market_Basket_Analysis\\data\\products.csv') \n",
    "departments = pd.read_csv(r'C:\\Users\\frede\\Documents\\GitHub\\BC3_Market_Basket_Analysis\\data\\departments.csv')\n",
    "order_products = pd.read_csv(r'C:\\Users\\frede\\Documents\\GitHub\\BC3_Market_Basket_Analysis\\data\\order_products.csv'\n",
    "                             , usecols=['order_id', 'product_id']) "
   ]
  },
  {
   "cell_type": "code",
   "execution_count": 4,
   "metadata": {},
   "outputs": [
    {
     "data": {
      "text/html": [
       "<div>\n",
       "<style scoped>\n",
       "    .dataframe tbody tr th:only-of-type {\n",
       "        vertical-align: middle;\n",
       "    }\n",
       "\n",
       "    .dataframe tbody tr th {\n",
       "        vertical-align: top;\n",
       "    }\n",
       "\n",
       "    .dataframe thead th {\n",
       "        text-align: right;\n",
       "    }\n",
       "</style>\n",
       "<table border=\"1\" class=\"dataframe\">\n",
       "  <thead>\n",
       "    <tr style=\"text-align: right;\">\n",
       "      <th></th>\n",
       "      <th>order_id</th>\n",
       "      <th>product_id</th>\n",
       "    </tr>\n",
       "  </thead>\n",
       "  <tbody>\n",
       "    <tr>\n",
       "      <th>0</th>\n",
       "      <td>10</td>\n",
       "      <td>24</td>\n",
       "    </tr>\n",
       "    <tr>\n",
       "      <th>1</th>\n",
       "      <td>10</td>\n",
       "      <td>83</td>\n",
       "    </tr>\n",
       "    <tr>\n",
       "      <th>2</th>\n",
       "      <td>10</td>\n",
       "      <td>16</td>\n",
       "    </tr>\n",
       "    <tr>\n",
       "      <th>3</th>\n",
       "      <td>10</td>\n",
       "      <td>24</td>\n",
       "    </tr>\n",
       "    <tr>\n",
       "      <th>4</th>\n",
       "      <td>10</td>\n",
       "      <td>83</td>\n",
       "    </tr>\n",
       "  </tbody>\n",
       "</table>\n",
       "</div>"
      ],
      "text/plain": [
       "   order_id  product_id\n",
       "0        10          24\n",
       "1        10          83\n",
       "2        10          16\n",
       "3        10          24\n",
       "4        10          83"
      ]
     },
     "execution_count": 4,
     "metadata": {},
     "output_type": "execute_result"
    }
   ],
   "source": [
    "order_products.head()"
   ]
  },
  {
   "cell_type": "code",
   "execution_count": 5,
   "metadata": {},
   "outputs": [
    {
     "data": {
      "text/html": [
       "<div>\n",
       "<style scoped>\n",
       "    .dataframe tbody tr th:only-of-type {\n",
       "        vertical-align: middle;\n",
       "    }\n",
       "\n",
       "    .dataframe tbody tr th {\n",
       "        vertical-align: top;\n",
       "    }\n",
       "\n",
       "    .dataframe thead th {\n",
       "        text-align: right;\n",
       "    }\n",
       "</style>\n",
       "<table border=\"1\" class=\"dataframe\">\n",
       "  <thead>\n",
       "    <tr style=\"text-align: right;\">\n",
       "      <th></th>\n",
       "      <th>order_id</th>\n",
       "      <th>product_name</th>\n",
       "    </tr>\n",
       "  </thead>\n",
       "  <tbody>\n",
       "    <tr>\n",
       "      <th>0</th>\n",
       "      <td>10</td>\n",
       "      <td>fresh fruits</td>\n",
       "    </tr>\n",
       "    <tr>\n",
       "      <th>1</th>\n",
       "      <td>10</td>\n",
       "      <td>fresh vegetables</td>\n",
       "    </tr>\n",
       "    <tr>\n",
       "      <th>2</th>\n",
       "      <td>10</td>\n",
       "      <td>fresh herbs</td>\n",
       "    </tr>\n",
       "    <tr>\n",
       "      <th>3</th>\n",
       "      <td>10</td>\n",
       "      <td>fresh fruits</td>\n",
       "    </tr>\n",
       "    <tr>\n",
       "      <th>4</th>\n",
       "      <td>10</td>\n",
       "      <td>fresh vegetables</td>\n",
       "    </tr>\n",
       "  </tbody>\n",
       "</table>\n",
       "</div>"
      ],
      "text/plain": [
       "   order_id      product_name\n",
       "0        10      fresh fruits\n",
       "1        10  fresh vegetables\n",
       "2        10       fresh herbs\n",
       "3        10      fresh fruits\n",
       "4        10  fresh vegetables"
      ]
     },
     "execution_count": 5,
     "metadata": {},
     "output_type": "execute_result"
    }
   ],
   "source": [
    "# Merge product labels\n",
    "df = pd.merge(order_products, products, how='left', on='product_id').\\\n",
    "    drop([\"product_id\", \"department_id\"], axis=1)\n",
    "df.head()"
   ]
  },
  {
   "cell_type": "code",
   "execution_count": 7,
   "metadata": {},
   "outputs": [
    {
     "data": {
      "text/html": [
       "<div>\n",
       "<style scoped>\n",
       "    .dataframe tbody tr th:only-of-type {\n",
       "        vertical-align: middle;\n",
       "    }\n",
       "\n",
       "    .dataframe tbody tr th {\n",
       "        vertical-align: top;\n",
       "    }\n",
       "\n",
       "    .dataframe thead th {\n",
       "        text-align: right;\n",
       "    }\n",
       "</style>\n",
       "<table border=\"1\" class=\"dataframe\">\n",
       "  <thead>\n",
       "    <tr style=\"text-align: right;\">\n",
       "      <th></th>\n",
       "      <th>order_id</th>\n",
       "      <th>product_name</th>\n",
       "    </tr>\n",
       "  </thead>\n",
       "  <tbody>\n",
       "    <tr>\n",
       "      <th>count</th>\n",
       "      <td>2019501</td>\n",
       "      <td>2019501</td>\n",
       "    </tr>\n",
       "    <tr>\n",
       "      <th>unique</th>\n",
       "      <td>200000</td>\n",
       "      <td>134</td>\n",
       "    </tr>\n",
       "    <tr>\n",
       "      <th>top</th>\n",
       "      <td>790903</td>\n",
       "      <td>fresh fruits</td>\n",
       "    </tr>\n",
       "    <tr>\n",
       "      <th>freq</th>\n",
       "      <td>137</td>\n",
       "      <td>226039</td>\n",
       "    </tr>\n",
       "  </tbody>\n",
       "</table>\n",
       "</div>"
      ],
      "text/plain": [
       "        order_id  product_name\n",
       "count    2019501       2019501\n",
       "unique    200000           134\n",
       "top       790903  fresh fruits\n",
       "freq         137        226039"
      ]
     },
     "execution_count": 7,
     "metadata": {},
     "output_type": "execute_result"
    }
   ],
   "source": [
    "# Get modes and unique values\n",
    "df.astype(object).describe()"
   ]
  },
  {
   "cell_type": "code",
   "execution_count": 9,
   "metadata": {},
   "outputs": [
    {
     "data": {
      "text/plain": [
       "fresh fruits                     226039\n",
       "fresh vegetables                 212611\n",
       "packaged vegetables fruits       109596\n",
       "yogurt                            90751\n",
       "packaged cheese                   61502\n",
       "milk                              55150\n",
       "water seltzer sparkling water     52564\n",
       "chips pretzels                    45306\n",
       "soy lactosefree                   39389\n",
       "bread                             36381\n",
       "Name: product_name, dtype: int64"
      ]
     },
     "execution_count": 9,
     "metadata": {},
     "output_type": "execute_result"
    }
   ],
   "source": [
    "# Check top 10 products bought\n",
    "df['product_name'].value_counts()[:10]"
   ]
  },
  {
   "cell_type": "code",
   "execution_count": 10,
   "metadata": {},
   "outputs": [
    {
     "data": {
      "text/html": [
       "<div>\n",
       "<style scoped>\n",
       "    .dataframe tbody tr th:only-of-type {\n",
       "        vertical-align: middle;\n",
       "    }\n",
       "\n",
       "    .dataframe tbody tr th {\n",
       "        vertical-align: top;\n",
       "    }\n",
       "\n",
       "    .dataframe thead th {\n",
       "        text-align: right;\n",
       "    }\n",
       "</style>\n",
       "<table border=\"1\" class=\"dataframe\">\n",
       "  <thead>\n",
       "    <tr style=\"text-align: right;\">\n",
       "      <th>product_name</th>\n",
       "      <th>air fresheners candles</th>\n",
       "      <th>asian foods</th>\n",
       "      <th>baby accessories</th>\n",
       "      <th>baby bath body care</th>\n",
       "      <th>baby food formula</th>\n",
       "      <th>bakery desserts</th>\n",
       "      <th>baking ingredients</th>\n",
       "      <th>baking supplies decor</th>\n",
       "      <th>beauty</th>\n",
       "      <th>beers coolers</th>\n",
       "      <th>...</th>\n",
       "      <th>spreads</th>\n",
       "      <th>tea</th>\n",
       "      <th>tofu meat alternatives</th>\n",
       "      <th>tortillas flat bread</th>\n",
       "      <th>trail mix snack mix</th>\n",
       "      <th>trash bags liners</th>\n",
       "      <th>vitamins supplements</th>\n",
       "      <th>water seltzer sparkling water</th>\n",
       "      <th>white wines</th>\n",
       "      <th>yogurt</th>\n",
       "    </tr>\n",
       "    <tr>\n",
       "      <th>order_id</th>\n",
       "      <th></th>\n",
       "      <th></th>\n",
       "      <th></th>\n",
       "      <th></th>\n",
       "      <th></th>\n",
       "      <th></th>\n",
       "      <th></th>\n",
       "      <th></th>\n",
       "      <th></th>\n",
       "      <th></th>\n",
       "      <th></th>\n",
       "      <th></th>\n",
       "      <th></th>\n",
       "      <th></th>\n",
       "      <th></th>\n",
       "      <th></th>\n",
       "      <th></th>\n",
       "      <th></th>\n",
       "      <th></th>\n",
       "      <th></th>\n",
       "      <th></th>\n",
       "    </tr>\n",
       "  </thead>\n",
       "  <tbody>\n",
       "    <tr>\n",
       "      <th>10</th>\n",
       "      <td>0.0</td>\n",
       "      <td>0.0</td>\n",
       "      <td>0.0</td>\n",
       "      <td>0.0</td>\n",
       "      <td>1.0</td>\n",
       "      <td>0.0</td>\n",
       "      <td>0.0</td>\n",
       "      <td>0.0</td>\n",
       "      <td>0.0</td>\n",
       "      <td>0.0</td>\n",
       "      <td>...</td>\n",
       "      <td>0.0</td>\n",
       "      <td>0.0</td>\n",
       "      <td>0.0</td>\n",
       "      <td>0.0</td>\n",
       "      <td>0.0</td>\n",
       "      <td>0.0</td>\n",
       "      <td>0.0</td>\n",
       "      <td>0.0</td>\n",
       "      <td>0.0</td>\n",
       "      <td>0.0</td>\n",
       "    </tr>\n",
       "    <tr>\n",
       "      <th>11</th>\n",
       "      <td>0.0</td>\n",
       "      <td>0.0</td>\n",
       "      <td>0.0</td>\n",
       "      <td>0.0</td>\n",
       "      <td>0.0</td>\n",
       "      <td>0.0</td>\n",
       "      <td>0.0</td>\n",
       "      <td>0.0</td>\n",
       "      <td>0.0</td>\n",
       "      <td>0.0</td>\n",
       "      <td>...</td>\n",
       "      <td>0.0</td>\n",
       "      <td>0.0</td>\n",
       "      <td>0.0</td>\n",
       "      <td>0.0</td>\n",
       "      <td>0.0</td>\n",
       "      <td>0.0</td>\n",
       "      <td>0.0</td>\n",
       "      <td>0.0</td>\n",
       "      <td>0.0</td>\n",
       "      <td>0.0</td>\n",
       "    </tr>\n",
       "    <tr>\n",
       "      <th>28</th>\n",
       "      <td>0.0</td>\n",
       "      <td>0.0</td>\n",
       "      <td>0.0</td>\n",
       "      <td>0.0</td>\n",
       "      <td>0.0</td>\n",
       "      <td>0.0</td>\n",
       "      <td>0.0</td>\n",
       "      <td>0.0</td>\n",
       "      <td>0.0</td>\n",
       "      <td>0.0</td>\n",
       "      <td>...</td>\n",
       "      <td>1.0</td>\n",
       "      <td>0.0</td>\n",
       "      <td>0.0</td>\n",
       "      <td>0.0</td>\n",
       "      <td>0.0</td>\n",
       "      <td>0.0</td>\n",
       "      <td>0.0</td>\n",
       "      <td>0.0</td>\n",
       "      <td>0.0</td>\n",
       "      <td>1.0</td>\n",
       "    </tr>\n",
       "    <tr>\n",
       "      <th>38</th>\n",
       "      <td>0.0</td>\n",
       "      <td>0.0</td>\n",
       "      <td>0.0</td>\n",
       "      <td>0.0</td>\n",
       "      <td>0.0</td>\n",
       "      <td>0.0</td>\n",
       "      <td>0.0</td>\n",
       "      <td>0.0</td>\n",
       "      <td>0.0</td>\n",
       "      <td>0.0</td>\n",
       "      <td>...</td>\n",
       "      <td>0.0</td>\n",
       "      <td>0.0</td>\n",
       "      <td>0.0</td>\n",
       "      <td>0.0</td>\n",
       "      <td>0.0</td>\n",
       "      <td>0.0</td>\n",
       "      <td>0.0</td>\n",
       "      <td>0.0</td>\n",
       "      <td>0.0</td>\n",
       "      <td>0.0</td>\n",
       "    </tr>\n",
       "    <tr>\n",
       "      <th>56</th>\n",
       "      <td>0.0</td>\n",
       "      <td>0.0</td>\n",
       "      <td>0.0</td>\n",
       "      <td>0.0</td>\n",
       "      <td>0.0</td>\n",
       "      <td>0.0</td>\n",
       "      <td>0.0</td>\n",
       "      <td>0.0</td>\n",
       "      <td>0.0</td>\n",
       "      <td>0.0</td>\n",
       "      <td>...</td>\n",
       "      <td>0.0</td>\n",
       "      <td>0.0</td>\n",
       "      <td>0.0</td>\n",
       "      <td>0.0</td>\n",
       "      <td>0.0</td>\n",
       "      <td>0.0</td>\n",
       "      <td>0.0</td>\n",
       "      <td>0.0</td>\n",
       "      <td>0.0</td>\n",
       "      <td>0.0</td>\n",
       "    </tr>\n",
       "  </tbody>\n",
       "</table>\n",
       "<p>5 rows × 134 columns</p>\n",
       "</div>"
      ],
      "text/plain": [
       "product_name  air fresheners candles  asian foods  baby accessories  \\\n",
       "order_id                                                              \n",
       "10                               0.0          0.0               0.0   \n",
       "11                               0.0          0.0               0.0   \n",
       "28                               0.0          0.0               0.0   \n",
       "38                               0.0          0.0               0.0   \n",
       "56                               0.0          0.0               0.0   \n",
       "\n",
       "product_name  baby bath body care  baby food formula  bakery desserts  \\\n",
       "order_id                                                                \n",
       "10                            0.0                1.0              0.0   \n",
       "11                            0.0                0.0              0.0   \n",
       "28                            0.0                0.0              0.0   \n",
       "38                            0.0                0.0              0.0   \n",
       "56                            0.0                0.0              0.0   \n",
       "\n",
       "product_name  baking ingredients  baking supplies decor  beauty  \\\n",
       "order_id                                                          \n",
       "10                           0.0                    0.0     0.0   \n",
       "11                           0.0                    0.0     0.0   \n",
       "28                           0.0                    0.0     0.0   \n",
       "38                           0.0                    0.0     0.0   \n",
       "56                           0.0                    0.0     0.0   \n",
       "\n",
       "product_name  beers coolers  ...  spreads  tea  tofu meat alternatives  \\\n",
       "order_id                     ...                                         \n",
       "10                      0.0  ...      0.0  0.0                     0.0   \n",
       "11                      0.0  ...      0.0  0.0                     0.0   \n",
       "28                      0.0  ...      1.0  0.0                     0.0   \n",
       "38                      0.0  ...      0.0  0.0                     0.0   \n",
       "56                      0.0  ...      0.0  0.0                     0.0   \n",
       "\n",
       "product_name  tortillas flat bread  trail mix snack mix  trash bags liners  \\\n",
       "order_id                                                                     \n",
       "10                             0.0                  0.0                0.0   \n",
       "11                             0.0                  0.0                0.0   \n",
       "28                             0.0                  0.0                0.0   \n",
       "38                             0.0                  0.0                0.0   \n",
       "56                             0.0                  0.0                0.0   \n",
       "\n",
       "product_name  vitamins supplements  water seltzer sparkling water  \\\n",
       "order_id                                                            \n",
       "10                             0.0                            0.0   \n",
       "11                             0.0                            0.0   \n",
       "28                             0.0                            0.0   \n",
       "38                             0.0                            0.0   \n",
       "56                             0.0                            0.0   \n",
       "\n",
       "product_name  white wines  yogurt  \n",
       "order_id                           \n",
       "10                    0.0     0.0  \n",
       "11                    0.0     0.0  \n",
       "28                    0.0     1.0  \n",
       "38                    0.0     0.0  \n",
       "56                    0.0     0.0  \n",
       "\n",
       "[5 rows x 134 columns]"
      ]
     },
     "execution_count": 10,
     "metadata": {},
     "output_type": "execute_result"
    }
   ],
   "source": [
    "# Pivot the data - lines as orders and products as columns\n",
    "pt = pd.pivot_table(df, index='order_id', columns='product_name', \n",
    "                    aggfunc=lambda x: 1 if len(x)>0 else 0).fillna(0)\n",
    "pt.head()"
   ]
  },
  {
   "cell_type": "code",
   "execution_count": 16,
   "metadata": {},
   "outputs": [
    {
     "data": {
      "text/plain": [
       "11130.0"
      ]
     },
     "execution_count": 16,
     "metadata": {},
     "output_type": "execute_result"
    }
   ],
   "source": [
    "# Check in how many orders was product yogurt sold\n",
    "pt['coffee'].sum()"
   ]
  },
  {
   "cell_type": "code",
   "execution_count": 21,
   "metadata": {},
   "outputs": [
    {
     "data": {
      "text/html": [
       "<div>\n",
       "<style scoped>\n",
       "    .dataframe tbody tr th:only-of-type {\n",
       "        vertical-align: middle;\n",
       "    }\n",
       "\n",
       "    .dataframe tbody tr th {\n",
       "        vertical-align: top;\n",
       "    }\n",
       "\n",
       "    .dataframe thead th {\n",
       "        text-align: right;\n",
       "    }\n",
       "</style>\n",
       "<table border=\"1\" class=\"dataframe\">\n",
       "  <thead>\n",
       "    <tr style=\"text-align: right;\">\n",
       "      <th></th>\n",
       "      <th>support</th>\n",
       "      <th>itemsets</th>\n",
       "    </tr>\n",
       "  </thead>\n",
       "  <tbody>\n",
       "    <tr>\n",
       "      <th>0</th>\n",
       "      <td>0.076635</td>\n",
       "      <td>(baking ingredients)</td>\n",
       "    </tr>\n",
       "    <tr>\n",
       "      <th>1</th>\n",
       "      <td>0.163865</td>\n",
       "      <td>(bread)</td>\n",
       "    </tr>\n",
       "    <tr>\n",
       "      <th>2</th>\n",
       "      <td>0.067765</td>\n",
       "      <td>(breakfast bakery)</td>\n",
       "    </tr>\n",
       "    <tr>\n",
       "      <th>3</th>\n",
       "      <td>0.074330</td>\n",
       "      <td>(butter)</td>\n",
       "    </tr>\n",
       "    <tr>\n",
       "      <th>4</th>\n",
       "      <td>0.069305</td>\n",
       "      <td>(candy chocolate)</td>\n",
       "    </tr>\n",
       "  </tbody>\n",
       "</table>\n",
       "</div>"
      ],
      "text/plain": [
       "    support              itemsets\n",
       "0  0.076635  (baking ingredients)\n",
       "1  0.163865               (bread)\n",
       "2  0.067765    (breakfast bakery)\n",
       "3  0.074330              (butter)\n",
       "4  0.069305     (candy chocolate)"
      ]
     },
     "execution_count": 21,
     "metadata": {},
     "output_type": "execute_result"
    }
   ],
   "source": [
    "# Apply the APRIORI algorithm to get frequent itemsets\n",
    "# Rules supported in at least 5% of the transactions (more info at http://rasbt.github.io/mlxtend/user_guide/frequent_patterns/apriori/)\n",
    "frequent_itemsets = apriori(pt, min_support=0.05, use_colnames=True)\n",
    "frequent_itemsets.head()"
   ]
  },
  {
   "cell_type": "code",
   "execution_count": 23,
   "metadata": {},
   "outputs": [
    {
     "data": {
      "text/html": [
       "<div>\n",
       "<style scoped>\n",
       "    .dataframe tbody tr th:only-of-type {\n",
       "        vertical-align: middle;\n",
       "    }\n",
       "\n",
       "    .dataframe tbody tr th {\n",
       "        vertical-align: top;\n",
       "    }\n",
       "\n",
       "    .dataframe thead th {\n",
       "        text-align: right;\n",
       "    }\n",
       "</style>\n",
       "<table border=\"1\" class=\"dataframe\">\n",
       "  <thead>\n",
       "    <tr style=\"text-align: right;\">\n",
       "      <th></th>\n",
       "      <th>antecedents</th>\n",
       "      <th>consequents</th>\n",
       "      <th>antecedent support</th>\n",
       "      <th>consequent support</th>\n",
       "      <th>support</th>\n",
       "      <th>confidence</th>\n",
       "      <th>lift</th>\n",
       "      <th>leverage</th>\n",
       "      <th>conviction</th>\n",
       "    </tr>\n",
       "  </thead>\n",
       "  <tbody>\n",
       "    <tr>\n",
       "      <th>65</th>\n",
       "      <td>(fresh fruits, fresh herbs)</td>\n",
       "      <td>(fresh vegetables)</td>\n",
       "      <td>0.070135</td>\n",
       "      <td>0.444360</td>\n",
       "      <td>0.061815</td>\n",
       "      <td>0.881372</td>\n",
       "      <td>1.983463</td>\n",
       "      <td>0.030650</td>\n",
       "      <td>4.683872</td>\n",
       "    </tr>\n",
       "    <tr>\n",
       "      <th>123</th>\n",
       "      <td>(fresh vegetables, packaged vegetables fruits,...</td>\n",
       "      <td>(fresh fruits)</td>\n",
       "      <td>0.087995</td>\n",
       "      <td>0.555995</td>\n",
       "      <td>0.076240</td>\n",
       "      <td>0.866413</td>\n",
       "      <td>1.558311</td>\n",
       "      <td>0.027315</td>\n",
       "      <td>3.323711</td>\n",
       "    </tr>\n",
       "    <tr>\n",
       "      <th>113</th>\n",
       "      <td>(milk, fresh vegetables, packaged vegetables f...</td>\n",
       "      <td>(fresh fruits)</td>\n",
       "      <td>0.073075</td>\n",
       "      <td>0.555995</td>\n",
       "      <td>0.062535</td>\n",
       "      <td>0.855765</td>\n",
       "      <td>1.539159</td>\n",
       "      <td>0.021906</td>\n",
       "      <td>3.078336</td>\n",
       "    </tr>\n",
       "    <tr>\n",
       "      <th>34</th>\n",
       "      <td>(fresh herbs)</td>\n",
       "      <td>(fresh vegetables)</td>\n",
       "      <td>0.093005</td>\n",
       "      <td>0.444360</td>\n",
       "      <td>0.078655</td>\n",
       "      <td>0.845707</td>\n",
       "      <td>1.903203</td>\n",
       "      <td>0.037327</td>\n",
       "      <td>3.601205</td>\n",
       "    </tr>\n",
       "    <tr>\n",
       "      <th>118</th>\n",
       "      <td>(fresh vegetables, packaged vegetables fruits,...</td>\n",
       "      <td>(fresh fruits)</td>\n",
       "      <td>0.081970</td>\n",
       "      <td>0.555995</td>\n",
       "      <td>0.068325</td>\n",
       "      <td>0.833537</td>\n",
       "      <td>1.499180</td>\n",
       "      <td>0.022750</td>\n",
       "      <td>2.667284</td>\n",
       "    </tr>\n",
       "  </tbody>\n",
       "</table>\n",
       "</div>"
      ],
      "text/plain": [
       "                                           antecedents         consequents  \\\n",
       "65                         (fresh fruits, fresh herbs)  (fresh vegetables)   \n",
       "123  (fresh vegetables, packaged vegetables fruits,...      (fresh fruits)   \n",
       "113  (milk, fresh vegetables, packaged vegetables f...      (fresh fruits)   \n",
       "34                                       (fresh herbs)  (fresh vegetables)   \n",
       "118  (fresh vegetables, packaged vegetables fruits,...      (fresh fruits)   \n",
       "\n",
       "     antecedent support  consequent support   support  confidence      lift  \\\n",
       "65             0.070135            0.444360  0.061815    0.881372  1.983463   \n",
       "123            0.087995            0.555995  0.076240    0.866413  1.558311   \n",
       "113            0.073075            0.555995  0.062535    0.855765  1.539159   \n",
       "34             0.093005            0.444360  0.078655    0.845707  1.903203   \n",
       "118            0.081970            0.555995  0.068325    0.833537  1.499180   \n",
       "\n",
       "     leverage  conviction  \n",
       "65   0.030650    4.683872  \n",
       "123  0.027315    3.323711  \n",
       "113  0.021906    3.078336  \n",
       "34   0.037327    3.601205  \n",
       "118  0.022750    2.667284  "
      ]
     },
     "execution_count": 23,
     "metadata": {},
     "output_type": "execute_result"
    }
   ],
   "source": [
    "# Generate the association rules - by confidence\n",
    "rulesConfidence = association_rules(frequent_itemsets, metric=\"confidence\", min_threshold=0.50)\n",
    "rulesConfidence.sort_values(by='confidence', ascending=False, inplace=True)\n",
    "rulesConfidence.head()"
   ]
  },
  {
   "cell_type": "code",
   "execution_count": 24,
   "metadata": {
    "scrolled": true
   },
   "outputs": [
    {
     "data": {
      "text/html": [
       "<div>\n",
       "<style scoped>\n",
       "    .dataframe tbody tr th:only-of-type {\n",
       "        vertical-align: middle;\n",
       "    }\n",
       "\n",
       "    .dataframe tbody tr th {\n",
       "        vertical-align: top;\n",
       "    }\n",
       "\n",
       "    .dataframe thead th {\n",
       "        text-align: right;\n",
       "    }\n",
       "</style>\n",
       "<table border=\"1\" class=\"dataframe\">\n",
       "  <thead>\n",
       "    <tr style=\"text-align: right;\">\n",
       "      <th></th>\n",
       "      <th>antecedents</th>\n",
       "      <th>consequents</th>\n",
       "      <th>antecedent support</th>\n",
       "      <th>consequent support</th>\n",
       "      <th>support</th>\n",
       "      <th>confidence</th>\n",
       "      <th>lift</th>\n",
       "      <th>leverage</th>\n",
       "      <th>conviction</th>\n",
       "    </tr>\n",
       "  </thead>\n",
       "  <tbody>\n",
       "    <tr>\n",
       "      <th>31</th>\n",
       "      <td>(fresh herbs)</td>\n",
       "      <td>(fresh vegetables, fresh fruits)</td>\n",
       "      <td>0.093005</td>\n",
       "      <td>0.317560</td>\n",
       "      <td>0.061815</td>\n",
       "      <td>0.664642</td>\n",
       "      <td>2.092964</td>\n",
       "      <td>0.032280</td>\n",
       "      <td>2.034958</td>\n",
       "    </tr>\n",
       "    <tr>\n",
       "      <th>28</th>\n",
       "      <td>(fresh vegetables, fresh fruits)</td>\n",
       "      <td>(fresh herbs)</td>\n",
       "      <td>0.317560</td>\n",
       "      <td>0.093005</td>\n",
       "      <td>0.061815</td>\n",
       "      <td>0.194656</td>\n",
       "      <td>2.092964</td>\n",
       "      <td>0.032280</td>\n",
       "      <td>1.126221</td>\n",
       "    </tr>\n",
       "    <tr>\n",
       "      <th>30</th>\n",
       "      <td>(fresh vegetables)</td>\n",
       "      <td>(fresh fruits, fresh herbs)</td>\n",
       "      <td>0.444360</td>\n",
       "      <td>0.070135</td>\n",
       "      <td>0.061815</td>\n",
       "      <td>0.139110</td>\n",
       "      <td>1.983463</td>\n",
       "      <td>0.030650</td>\n",
       "      <td>1.080121</td>\n",
       "    </tr>\n",
       "    <tr>\n",
       "      <th>29</th>\n",
       "      <td>(fresh fruits, fresh herbs)</td>\n",
       "      <td>(fresh vegetables)</td>\n",
       "      <td>0.070135</td>\n",
       "      <td>0.444360</td>\n",
       "      <td>0.061815</td>\n",
       "      <td>0.881372</td>\n",
       "      <td>1.983463</td>\n",
       "      <td>0.030650</td>\n",
       "      <td>4.683872</td>\n",
       "    </tr>\n",
       "    <tr>\n",
       "      <th>131</th>\n",
       "      <td>(packaged vegetables fruits, fresh fruits)</td>\n",
       "      <td>(fresh vegetables, yogurt)</td>\n",
       "      <td>0.269870</td>\n",
       "      <td>0.144660</td>\n",
       "      <td>0.076240</td>\n",
       "      <td>0.282506</td>\n",
       "      <td>1.952899</td>\n",
       "      <td>0.037201</td>\n",
       "      <td>1.192122</td>\n",
       "    </tr>\n",
       "  </tbody>\n",
       "</table>\n",
       "</div>"
      ],
      "text/plain": [
       "                                    antecedents  \\\n",
       "31                                (fresh herbs)   \n",
       "28             (fresh vegetables, fresh fruits)   \n",
       "30                           (fresh vegetables)   \n",
       "29                  (fresh fruits, fresh herbs)   \n",
       "131  (packaged vegetables fruits, fresh fruits)   \n",
       "\n",
       "                          consequents  antecedent support  consequent support  \\\n",
       "31   (fresh vegetables, fresh fruits)            0.093005            0.317560   \n",
       "28                      (fresh herbs)            0.317560            0.093005   \n",
       "30        (fresh fruits, fresh herbs)            0.444360            0.070135   \n",
       "29                 (fresh vegetables)            0.070135            0.444360   \n",
       "131        (fresh vegetables, yogurt)            0.269870            0.144660   \n",
       "\n",
       "      support  confidence      lift  leverage  conviction  \n",
       "31   0.061815    0.664642  2.092964  0.032280    2.034958  \n",
       "28   0.061815    0.194656  2.092964  0.032280    1.126221  \n",
       "30   0.061815    0.139110  1.983463  0.030650    1.080121  \n",
       "29   0.061815    0.881372  1.983463  0.030650    4.683872  \n",
       "131  0.076240    0.282506  1.952899  0.037201    1.192122  "
      ]
     },
     "execution_count": 24,
     "metadata": {},
     "output_type": "execute_result"
    }
   ],
   "source": [
    "# Generate the association rules - by lift\n",
    "rulesLift = association_rules(frequent_itemsets, metric=\"lift\", min_threshold=1.5)\n",
    "rulesLift.sort_values(by='lift', ascending=False, inplace=True)\n",
    "rulesLift.head()"
   ]
  },
  {
   "cell_type": "code",
   "execution_count": 41,
   "metadata": {
    "scrolled": false
   },
   "outputs": [
    {
     "data": {
      "image/png": "[encoded data removed]",
      "text/plain": [
       "<Figure size 864x576 with 1 Axes>"
      ]
     },
     "metadata": {
      "needs_background": "light"
     },
     "output_type": "display_data"
    }
   ],
   "source": [
    "plt.figure(figsize=(12,8))\n",
    "sns.countplot(x=\"order_dow\", data=orders, color='darkblue')\n",
    "plt.ylabel('Count', fontsize=12)\n",
    "plt.xlabel('Day of week', fontsize=12)\n",
    "plt.title(\"Frequency of order by week day\", fontsize=15)\n",
    "plt.show()"
   ]
  },
  {
   "cell_type": "code",
   "execution_count": 42,
   "metadata": {
    "scrolled": false
   },
   "outputs": [
    {
     "data": {
      "image/png": "[encoded data removed]",
      "text/plain": [
       "<Figure size 864x576 with 1 Axes>"
      ]
     },
     "metadata": {
      "needs_background": "light"
     },
     "output_type": "display_data"
    }
   ],
   "source": [
    "plt.figure(figsize=(12,8))\n",
    "sns.countplot(x=\"order_hour_of_day\", data=orders, color='lightblue')\n",
    "plt.ylabel('Count', fontsize=12)\n",
    "plt.xlabel('Hour of day', fontsize=12)\n",
    "plt.title(\"Frequency of order by hour of day\", fontsize=15)\n",
    "plt.show()"
   ]
  },
  {
   "cell_type": "code",
   "execution_count": 44,
   "metadata": {},
   "outputs": [
    {
     "data": {
      "image/png": "[encoded data removed]",
      "text/plain": [
       "<Figure size 864x432 with 2 Axes>"
      ]
     },
     "metadata": {
      "needs_background": "light"
     },
     "output_type": "display_data"
    }
   ],
   "source": [
    "grouped_df = orders.groupby([\"order_dow\", \"order_hour_of_day\"])[\"order_number\"].aggregate(\"count\").reset_index()\n",
    "grouped_df = grouped_df.pivot('order_dow', 'order_hour_of_day', 'order_number')\n",
    "\n",
    "plt.figure(figsize=(12,6))\n",
    "sns.heatmap(grouped_df, cmap=\"BuPu\")\n",
    "plt.title(\"Frequency of Day of week Vs Hour of day\")\n",
    "plt.show()"
   ]
  },
  {
   "cell_type": "code",
   "execution_count": 48,
   "metadata": {},
   "outputs": [
    {
     "data": {
      "image/png": "[encoded data removed]",
      "text/plain": [
       "<Figure size 864x576 with 1 Axes>"
      ]
     },
     "metadata": {
      "needs_background": "light"
     },
     "output_type": "display_data"
    }
   ],
   "source": [
    "plt.figure(figsize=(12,8))\n",
    "sns.countplot(x=\"days_since_prior_order\", data=orders, color=sns.color_palette()[4])\n",
    "plt.ylabel('Count', fontsize=12)\n",
    "plt.xlabel('Days since prior order', fontsize=12)\n",
    "plt.xticks(rotation='vertical')\n",
    "plt.title(\"Frequency distribution by days since prior order\", fontsize=15)\n",
    "plt.show()"
   ]
  },
  {
   "cell_type": "code",
   "execution_count": 51,
   "metadata": {},
   "outputs": [
    {
     "data": {
      "image/png": "[encoded data removed]",
      "text/plain": [
       "<Figure size 864x576 with 1 Axes>"
      ]
     },
     "metadata": {
      "needs_background": "light"
     },
     "output_type": "display_data"
    }
   ],
   "source": [
    "df['product_name'].value_counts()[:10]\n",
    "cnt_srs = df['product_name'].value_counts()[:10]\n",
    "plt.figure(figsize=(12,8))\n",
    "sns.barplot(cnt_srs.index, cnt_srs.values, alpha=0.8, color='gray')\n",
    "plt.ylabel('Number of Occurrences', fontsize=12)\n",
    "plt.xlabel('Aisle', fontsize=12)\n",
    "plt.xticks(rotation='vertical')\n",
    "plt.show()"
   ]
  },
  {
   "cell_type": "markdown",
   "metadata": {},
   "source": [
    "### EXPLORE FREQUENT_ITEMSETS"
   ]
  },
  {
   "cell_type": "code",
   "execution_count": 26,
   "metadata": {},
   "outputs": [
    {
     "data": {
      "text/html": [
       "<div>\n",
       "<style scoped>\n",
       "    .dataframe tbody tr th:only-of-type {\n",
       "        vertical-align: middle;\n",
       "    }\n",
       "\n",
       "    .dataframe tbody tr th {\n",
       "        vertical-align: top;\n",
       "    }\n",
       "\n",
       "    .dataframe thead th {\n",
       "        text-align: right;\n",
       "    }\n",
       "</style>\n",
       "<table border=\"1\" class=\"dataframe\">\n",
       "  <thead>\n",
       "    <tr style=\"text-align: right;\">\n",
       "      <th></th>\n",
       "      <th>support</th>\n",
       "      <th>itemsets</th>\n",
       "      <th>length</th>\n",
       "    </tr>\n",
       "  </thead>\n",
       "  <tbody>\n",
       "    <tr>\n",
       "      <th>75</th>\n",
       "      <td>0.317560</td>\n",
       "      <td>(fresh vegetables, fresh fruits)</td>\n",
       "      <td>2</td>\n",
       "    </tr>\n",
       "    <tr>\n",
       "      <th>85</th>\n",
       "      <td>0.269870</td>\n",
       "      <td>(packaged vegetables fruits, fresh fruits)</td>\n",
       "      <td>2</td>\n",
       "    </tr>\n",
       "    <tr>\n",
       "      <th>100</th>\n",
       "      <td>0.234555</td>\n",
       "      <td>(fresh vegetables, packaged vegetables fruits)</td>\n",
       "      <td>2</td>\n",
       "    </tr>\n",
       "  </tbody>\n",
       "</table>\n",
       "</div>"
      ],
      "text/plain": [
       "      support                                        itemsets  length\n",
       "75   0.317560                (fresh vegetables, fresh fruits)       2\n",
       "85   0.269870      (packaged vegetables fruits, fresh fruits)       2\n",
       "100  0.234555  (fresh vegetables, packaged vegetables fruits)       2"
      ]
     },
     "execution_count": 26,
     "metadata": {},
     "output_type": "execute_result"
    }
   ],
   "source": [
    "frequent_itemsets['length'] = frequent_itemsets['itemsets'].apply(lambda x: len(x))\n",
    "\n",
    "# Length=2 and Support>=0.2\n",
    "frequent_itemsets[(frequent_itemsets['length'] == 2) & (frequent_itemsets['support'] >= 0.2)]"
   ]
  },
  {
   "cell_type": "code",
   "execution_count": 27,
   "metadata": {},
   "outputs": [
    {
     "data": {
      "text/html": [
       "<div>\n",
       "<style scoped>\n",
       "    .dataframe tbody tr th:only-of-type {\n",
       "        vertical-align: middle;\n",
       "    }\n",
       "\n",
       "    .dataframe tbody tr th {\n",
       "        vertical-align: top;\n",
       "    }\n",
       "\n",
       "    .dataframe thead th {\n",
       "        text-align: right;\n",
       "    }\n",
       "</style>\n",
       "<table border=\"1\" class=\"dataframe\">\n",
       "  <thead>\n",
       "    <tr style=\"text-align: right;\">\n",
       "      <th></th>\n",
       "      <th>support</th>\n",
       "      <th>itemsets</th>\n",
       "      <th>length</th>\n",
       "    </tr>\n",
       "  </thead>\n",
       "  <tbody>\n",
       "    <tr>\n",
       "      <th>91</th>\n",
       "      <td>0.188225</td>\n",
       "      <td>(fresh fruits, yogurt)</td>\n",
       "      <td>2</td>\n",
       "    </tr>\n",
       "  </tbody>\n",
       "</table>\n",
       "</div>"
      ],
      "text/plain": [
       "     support                itemsets  length\n",
       "91  0.188225  (fresh fruits, yogurt)       2"
      ]
     },
     "execution_count": 27,
     "metadata": {},
     "output_type": "execute_result"
    }
   ],
   "source": [
    "# fresh fruits and yogurt\n",
    "frequent_itemsets[ frequent_itemsets['itemsets'] == {'yogurt', 'fresh fruits'}]"
   ]
  },
  {
   "cell_type": "code",
   "execution_count": 29,
   "metadata": {},
   "outputs": [
    {
     "data": {
      "text/html": [
       "<div>\n",
       "<style scoped>\n",
       "    .dataframe tbody tr th:only-of-type {\n",
       "        vertical-align: middle;\n",
       "    }\n",
       "\n",
       "    .dataframe tbody tr th {\n",
       "        vertical-align: top;\n",
       "    }\n",
       "\n",
       "    .dataframe thead th {\n",
       "        text-align: right;\n",
       "    }\n",
       "</style>\n",
       "<table border=\"1\" class=\"dataframe\">\n",
       "  <thead>\n",
       "    <tr style=\"text-align: right;\">\n",
       "      <th></th>\n",
       "      <th>support</th>\n",
       "      <th>itemsets</th>\n",
       "      <th>length</th>\n",
       "    </tr>\n",
       "  </thead>\n",
       "  <tbody>\n",
       "    <tr>\n",
       "      <th>34</th>\n",
       "      <td>0.230995</td>\n",
       "      <td>(packaged cheese)</td>\n",
       "      <td>1</td>\n",
       "    </tr>\n",
       "  </tbody>\n",
       "</table>\n",
       "</div>"
      ],
      "text/plain": [
       "     support           itemsets  length\n",
       "34  0.230995  (packaged cheese)       1"
      ]
     },
     "execution_count": 29,
     "metadata": {},
     "output_type": "execute_result"
    }
   ],
   "source": [
    "# packaged cheese\n",
    "frequent_itemsets[ frequent_itemsets['itemsets'] == {'packaged cheese'}]"
   ]
  },
  {
   "cell_type": "code",
   "execution_count": 30,
   "metadata": {},
   "outputs": [
    {
     "data": {
      "text/html": [
       "<div>\n",
       "<style scoped>\n",
       "    .dataframe tbody tr th:only-of-type {\n",
       "        vertical-align: middle;\n",
       "    }\n",
       "\n",
       "    .dataframe tbody tr th {\n",
       "        vertical-align: top;\n",
       "    }\n",
       "\n",
       "    .dataframe thead th {\n",
       "        text-align: right;\n",
       "    }\n",
       "</style>\n",
       "<table border=\"1\" class=\"dataframe\">\n",
       "  <thead>\n",
       "    <tr style=\"text-align: right;\">\n",
       "      <th></th>\n",
       "      <th>antecedents</th>\n",
       "      <th>consequents</th>\n",
       "      <th>antecedent support</th>\n",
       "      <th>consequent support</th>\n",
       "      <th>support</th>\n",
       "      <th>confidence</th>\n",
       "      <th>lift</th>\n",
       "      <th>leverage</th>\n",
       "      <th>conviction</th>\n",
       "    </tr>\n",
       "  </thead>\n",
       "  <tbody>\n",
       "    <tr>\n",
       "      <th>65</th>\n",
       "      <td>(fresh fruits, fresh herbs)</td>\n",
       "      <td>(fresh vegetables)</td>\n",
       "      <td>0.070135</td>\n",
       "      <td>0.44436</td>\n",
       "      <td>0.061815</td>\n",
       "      <td>0.881372</td>\n",
       "      <td>1.983463</td>\n",
       "      <td>0.030650</td>\n",
       "      <td>4.683872</td>\n",
       "    </tr>\n",
       "    <tr>\n",
       "      <th>34</th>\n",
       "      <td>(fresh herbs)</td>\n",
       "      <td>(fresh vegetables)</td>\n",
       "      <td>0.093005</td>\n",
       "      <td>0.44436</td>\n",
       "      <td>0.078655</td>\n",
       "      <td>0.845707</td>\n",
       "      <td>1.903203</td>\n",
       "      <td>0.037327</td>\n",
       "      <td>3.601205</td>\n",
       "    </tr>\n",
       "  </tbody>\n",
       "</table>\n",
       "</div>"
      ],
      "text/plain": [
       "                    antecedents         consequents  antecedent support  \\\n",
       "65  (fresh fruits, fresh herbs)  (fresh vegetables)            0.070135   \n",
       "34                (fresh herbs)  (fresh vegetables)            0.093005   \n",
       "\n",
       "    consequent support   support  confidence      lift  leverage  conviction  \n",
       "65             0.44436  0.061815    0.881372  1.983463  0.030650    4.683872  \n",
       "34             0.44436  0.078655    0.845707  1.903203  0.037327    3.601205  "
      ]
     },
     "execution_count": 30,
     "metadata": {},
     "output_type": "execute_result"
    }
   ],
   "source": [
    "# High Confidence and high Lift - complementary products\n",
    "rulesConfidence[(rulesConfidence['confidence'] >= 0.8) & (rulesConfidence['lift'] >= 1.8)]"
   ]
  },
  {
   "cell_type": "code",
   "execution_count": 32,
   "metadata": {},
   "outputs": [
    {
     "data": {
      "text/html": [
       "<div>\n",
       "<style scoped>\n",
       "    .dataframe tbody tr th:only-of-type {\n",
       "        vertical-align: middle;\n",
       "    }\n",
       "\n",
       "    .dataframe tbody tr th {\n",
       "        vertical-align: top;\n",
       "    }\n",
       "\n",
       "    .dataframe thead th {\n",
       "        text-align: right;\n",
       "    }\n",
       "</style>\n",
       "<table border=\"1\" class=\"dataframe\">\n",
       "  <thead>\n",
       "    <tr style=\"text-align: right;\">\n",
       "      <th></th>\n",
       "      <th>antecedents</th>\n",
       "      <th>consequents</th>\n",
       "      <th>antecedent support</th>\n",
       "      <th>consequent support</th>\n",
       "      <th>support</th>\n",
       "      <th>confidence</th>\n",
       "      <th>lift</th>\n",
       "      <th>leverage</th>\n",
       "      <th>conviction</th>\n",
       "    </tr>\n",
       "  </thead>\n",
       "  <tbody>\n",
       "    <tr>\n",
       "      <th>75</th>\n",
       "      <td>(fresh vegetables, fresh fruits)</td>\n",
       "      <td>(packaged vegetables fruits)</td>\n",
       "      <td>0.31756</td>\n",
       "      <td>0.365415</td>\n",
       "      <td>0.18658</td>\n",
       "      <td>0.587543</td>\n",
       "      <td>1.607877</td>\n",
       "      <td>0.070539</td>\n",
       "      <td>1.538546</td>\n",
       "    </tr>\n",
       "  </tbody>\n",
       "</table>\n",
       "</div>"
      ],
      "text/plain": [
       "                         antecedents                   consequents  \\\n",
       "75  (fresh vegetables, fresh fruits)  (packaged vegetables fruits)   \n",
       "\n",
       "    antecedent support  consequent support  support  confidence      lift  \\\n",
       "75             0.31756            0.365415  0.18658    0.587543  1.607877   \n",
       "\n",
       "    leverage  conviction  \n",
       "75  0.070539    1.538546  "
      ]
     },
     "execution_count": 32,
     "metadata": {},
     "output_type": "execute_result"
    }
   ],
   "source": [
    "# High Confidence rules where \"fresh vegetables\" and \"fresh fruits\" are in the LHS\n",
    "rulesConfidence[rulesConfidence['antecedents']=={'fresh vegetables', 'fresh fruits'}]  \n",
    "# Because rules are a \"frozenset\" object, the order of items is not important"
   ]
  },
  {
   "cell_type": "code",
   "execution_count": null,
   "metadata": {},
   "outputs": [],
   "source": []
  }
 ],
 "metadata": {
  "kernelspec": {
   "display_name": "Python 3",
   "language": "python",
   "name": "python3"
  },
  "language_info": {
   "codemirror_mode": {
    "name": "ipython",
    "version": 3
   },
   "file_extension": ".py",
   "mimetype": "text/x-python",
   "name": "python",
   "nbconvert_exporter": "python",
   "pygments_lexer": "ipython3",
   "version": "3.8.5"
  }
 },
 "nbformat": 4,
 "nbformat_minor": 4
}
